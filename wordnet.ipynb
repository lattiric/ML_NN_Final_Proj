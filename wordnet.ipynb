{
 "cells": [
  {
   "cell_type": "code",
   "execution_count": 55,
   "metadata": {},
   "outputs": [],
   "source": [
    "from lemminflect import getAllLemmas, getAllInflections\n",
    "from nltk.corpus import wordnet as wn"
   ]
  },
  {
   "cell_type": "code",
   "execution_count": 41,
   "metadata": {},
   "outputs": [],
   "source": [
    "def print_synsets(word):\n",
    "    synsets = wn.synsets(word)\n",
    "    for i, ss in enumerate(synsets):\n",
    "        print(i, ss._name)\n",
    "        print(ss._definition)\n",
    "        print()\n",
    "        \n",
    "    return synsets"
   ]
  },
  {
   "cell_type": "code",
   "execution_count": 42,
   "metadata": {},
   "outputs": [
    {
     "name": "stdout",
     "output_type": "stream",
     "text": [
      "0 religion.n.01\n",
      "a strong belief in a supernatural power or powers that control human destiny\n",
      "\n",
      "1 religion.n.02\n",
      "an institution to express belief in a divine power\n",
      "\n"
     ]
    }
   ],
   "source": [
    "religion_synsets = print_synsets(\"religion\")"
   ]
  },
  {
   "cell_type": "code",
   "execution_count": 57,
   "metadata": {},
   "outputs": [],
   "source": [
    "def get_all_lemmas(lemmas, words):\n",
    "    for lemma in lemmas:\n",
    "        if \"_\" not in lemma._name:\n",
    "            words.add(lemma._name.lower())\n",
    "            for lem in getAllLemmas(lemma._name.lower()).values():\n",
    "                for word in lem:\n",
    "                    words.add(word.lower())\n",
    "            for infl in getAllInflections(lemma._name.lower()).values():\n",
    "                for word in infl:\n",
    "                    words.add(word.lower())\n",
    "                    \n",
    "    return words\n",
    "\n",
    "def get_all_words(synsets, indices, verbose = True):\n",
    "    words = set()\n",
    "    for i in indices:\n",
    "        ss = synsets[i]\n",
    "        words = get_all_lemmas(ss._lemmas, words)\n",
    "        \n",
    "        hyponyms = [ss.hyponyms()]\n",
    "        while len(hyponyms) > 0:\n",
    "            for hyp in hyponyms[0]:\n",
    "                words = get_all_lemmas(hyp._lemmas, words)\n",
    "                hyponyms.append(hyp.hyponyms())\n",
    "            hyponyms.pop(0)\n",
    "            \n",
    "    words = list(sorted(words))\n",
    "    if verbose:\n",
    "        print(len(words))\n",
    "        display(words)\n",
    "        \n",
    "    return words"
   ]
  },
  {
   "cell_type": "code",
   "execution_count": 58,
   "metadata": {},
   "outputs": [
    {
     "name": "stdout",
     "output_type": "stream",
     "text": [
      "166\n"
     ]
    },
    {
     "data": {
      "text/plain": [
       "['abecedarian',\n",
       " 'adventism',\n",
       " 'albigenses',\n",
       " 'albigensianism',\n",
       " 'anabaptism',\n",
       " 'analogies',\n",
       " 'analogy',\n",
       " 'anglicanism',\n",
       " 'anglo-catholicism',\n",
       " 'apophatism',\n",
       " 'arminianism',\n",
       " 'bahaism',\n",
       " 'brahmanism',\n",
       " 'brahminism',\n",
       " 'brethren',\n",
       " 'buddhism',\n",
       " 'calvinism',\n",
       " 'cataphatism',\n",
       " 'cathari',\n",
       " 'catharism',\n",
       " 'cathars',\n",
       " 'catholicism',\n",
       " 'catholicity',\n",
       " 'chabad',\n",
       " 'chasidim',\n",
       " 'chasidism',\n",
       " 'chassidim',\n",
       " 'chassidism',\n",
       " 'christianity',\n",
       " 'church',\n",
       " 'churches',\n",
       " 'congregationalism',\n",
       " 'cult',\n",
       " 'cults',\n",
       " 'cultus',\n",
       " 'darsana',\n",
       " 'donatism',\n",
       " 'druidism',\n",
       " 'ecclesiasticism',\n",
       " 'evangelicalism',\n",
       " 'faith',\n",
       " 'faiths',\n",
       " 'fundamentalism',\n",
       " 'haredi',\n",
       " 'hasidim',\n",
       " 'hasidism',\n",
       " 'hassidim',\n",
       " 'hassidism',\n",
       " 'heathenism',\n",
       " 'hebraism',\n",
       " 'hinayana',\n",
       " 'hindooism',\n",
       " 'hinduism',\n",
       " 'hoodoo',\n",
       " 'hoodooism',\n",
       " 'iskcon',\n",
       " 'islam',\n",
       " 'islamism',\n",
       " 'ismailism',\n",
       " 'jainism',\n",
       " 'judaism',\n",
       " 'karaites',\n",
       " 'khalsa',\n",
       " 'kokka',\n",
       " 'krishnaism',\n",
       " 'lamaism',\n",
       " 'lutheranism',\n",
       " 'macumba',\n",
       " 'mahayana',\n",
       " 'mahdism',\n",
       " 'manichaeanism',\n",
       " 'manichaeism',\n",
       " 'mazdaism',\n",
       " 'mennonitism',\n",
       " 'methodism',\n",
       " 'mimamsa',\n",
       " 'mithraicism',\n",
       " 'mithraism',\n",
       " 'mohammedanism',\n",
       " 'monotheism',\n",
       " 'mormonism',\n",
       " 'muhammadanism',\n",
       " 'muslimism',\n",
       " 'mysticism',\n",
       " 'mysticisms',\n",
       " 'obeah',\n",
       " 'obi',\n",
       " 'order',\n",
       " 'ordered',\n",
       " 'ordering',\n",
       " 'orders',\n",
       " 'paganism',\n",
       " 'pantheism',\n",
       " 'papism',\n",
       " 'parseeism',\n",
       " 'parsiism',\n",
       " 'pentecostalism',\n",
       " 'polytheism',\n",
       " 'predestinarianism',\n",
       " 'presbyterianism',\n",
       " 'protestant',\n",
       " 'protestantism',\n",
       " 'puritanism',\n",
       " 'puseyism',\n",
       " 'quakers',\n",
       " 'quietism',\n",
       " 'rastafari',\n",
       " 'rastafarian',\n",
       " 'rastafarianism',\n",
       " 'rastas',\n",
       " 'religion',\n",
       " 'religions',\n",
       " 'revivalism',\n",
       " 'romanism',\n",
       " 'saktism',\n",
       " 'salafism',\n",
       " 'scientology',\n",
       " 'sect',\n",
       " 'sects',\n",
       " 'shaker',\n",
       " 'shakers',\n",
       " 'shaktism',\n",
       " 'shamanism',\n",
       " 'shia',\n",
       " 'shiah',\n",
       " 'shiism',\n",
       " 'shingon',\n",
       " 'shinto',\n",
       " 'shintoism',\n",
       " 'shivaism',\n",
       " 'shua',\n",
       " 'sikhism',\n",
       " 'sisterhood',\n",
       " 'sisterhoods',\n",
       " 'sivaism',\n",
       " 'sufism',\n",
       " 'sunni',\n",
       " 'tantra',\n",
       " 'tantrism',\n",
       " 'taoism',\n",
       " 'theism',\n",
       " 'theravada',\n",
       " 'tractarianism',\n",
       " 'trinitarianism',\n",
       " 'tritheism',\n",
       " 'unitarianism',\n",
       " 'vaishnavism',\n",
       " 'vaisnavism',\n",
       " 'vaudois',\n",
       " 'vedanta',\n",
       " 'vedism',\n",
       " 'vishnuism',\n",
       " 'vodoun',\n",
       " 'voodoo',\n",
       " 'voodooism',\n",
       " 'wahabism',\n",
       " 'wahhabism',\n",
       " 'waldenses',\n",
       " 'wesleyanism',\n",
       " 'wesleyism',\n",
       " 'wicca',\n",
       " 'yoga',\n",
       " 'yogacara',\n",
       " 'zen',\n",
       " 'zoroastrianism',\n",
       " 'zurvanism']"
      ]
     },
     "metadata": {},
     "output_type": "display_data"
    }
   ],
   "source": [
    "religion_words = get_all_words(religion_synsets, [0, 1])"
   ]
  },
  {
   "cell_type": "code",
   "execution_count": 59,
   "metadata": {},
   "outputs": [
    {
     "name": "stdout",
     "output_type": "stream",
     "text": [
      "0 race.n.01\n",
      "any competition\n",
      "\n",
      "1 race.n.02\n",
      "a contest of speed\n",
      "\n",
      "2 race.n.03\n",
      "people who are believed to belong to the same genetic stock\n",
      "\n",
      "3 subspecies.n.01\n",
      "(biology) a taxonomic group that is a division of a species; usually arises as a consequence of geographical isolation within a species\n",
      "\n",
      "4 slipstream.n.01\n",
      "the flow of air that is driven backwards by an aircraft propeller\n",
      "\n",
      "5 raceway.n.01\n",
      "a canal for a current of water\n",
      "\n",
      "6 rush.v.01\n",
      "move fast\n",
      "\n",
      "7 race.v.02\n",
      "compete in a race\n",
      "\n",
      "8 race.v.03\n",
      "to work as fast as possible towards a goal, sometimes in competition with others\n",
      "\n",
      "9 race.v.04\n",
      "cause to move fast or to rush or race\n",
      "\n"
     ]
    }
   ],
   "source": [
    "race_synsets = print_synsets(\"race\")"
   ]
  },
  {
   "cell_type": "code",
   "execution_count": 60,
   "metadata": {},
   "outputs": [
    {
     "name": "stdout",
     "output_type": "stream",
     "text": [
      "13\n"
     ]
    },
    {
     "data": {
      "text/plain": [
       "['color',\n",
       " 'colored',\n",
       " 'coloring',\n",
       " 'colors',\n",
       " 'colour',\n",
       " 'coloured',\n",
       " 'colouring',\n",
       " 'colours',\n",
       " 'herrenvolk',\n",
       " 'race',\n",
       " 'raced',\n",
       " 'races',\n",
       " 'racing']"
      ]
     },
     "metadata": {},
     "output_type": "display_data"
    }
   ],
   "source": [
    "race_words = get_all_words(race_synsets, [2])"
   ]
  },
  {
   "cell_type": "code",
   "execution_count": 63,
   "metadata": {},
   "outputs": [
    {
     "name": "stdout",
     "output_type": "stream",
     "text": [
      "0 gender.n.01\n",
      "a grammatical category in inflected languages governing the agreement between nouns and pronouns and adjectives; in some languages it is quite arbitrary but in Indo-European languages it is usually based on sex or animateness\n",
      "\n",
      "1 sex.n.04\n",
      "the properties that distinguish organisms on the basis of their reproductive roles\n",
      "\n"
     ]
    }
   ],
   "source": [
    "gender_synsets = print_synsets(\"gender\")"
   ]
  },
  {
   "cell_type": "code",
   "execution_count": 64,
   "metadata": {},
   "outputs": [
    {
     "name": "stdout",
     "output_type": "stream",
     "text": [
      "29\n"
     ]
    },
    {
     "data": {
      "text/plain": [
       "['androgyny',\n",
       " 'bisexuality',\n",
       " 'femaleness',\n",
       " 'feminine',\n",
       " 'feminineness',\n",
       " 'feminines',\n",
       " 'gender',\n",
       " 'gendered',\n",
       " 'gendering',\n",
       " 'genders',\n",
       " 'hermaphroditism',\n",
       " 'maleness',\n",
       " 'malenesses',\n",
       " 'masculine',\n",
       " 'masculines',\n",
       " 'masculinities',\n",
       " 'masculinity',\n",
       " 'neuter',\n",
       " 'neutered',\n",
       " 'neutering',\n",
       " 'neuters',\n",
       " 'sex',\n",
       " 'sexed',\n",
       " 'sexes',\n",
       " 'sexing',\n",
       " 'sexualities',\n",
       " 'sexuality',\n",
       " 'virilities',\n",
       " 'virility']"
      ]
     },
     "metadata": {},
     "output_type": "display_data"
    }
   ],
   "source": [
    "gender_words = get_all_words(gender_synsets, [0, 1])"
   ]
  },
  {
   "cell_type": "code",
   "execution_count": null,
   "metadata": {},
   "outputs": [],
   "source": []
  }
 ],
 "metadata": {
  "kernelspec": {
   "display_name": "mlenv",
   "language": "python",
   "name": "python3"
  },
  "language_info": {
   "codemirror_mode": {
    "name": "ipython",
    "version": 3
   },
   "file_extension": ".py",
   "mimetype": "text/x-python",
   "name": "python",
   "nbconvert_exporter": "python",
   "pygments_lexer": "ipython3",
   "version": "3.8.17"
  }
 },
 "nbformat": 4,
 "nbformat_minor": 2
}
